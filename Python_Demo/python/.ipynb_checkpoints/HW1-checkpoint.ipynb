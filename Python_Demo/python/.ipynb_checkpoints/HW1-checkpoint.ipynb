{
 "cells": [
  {
   "cell_type": "code",
   "execution_count": 6,
   "id": "92f0a5c5",
   "metadata": {
    "colab": {
     "base_uri": "https://localhost:8080/",
     "height": 133
    },
    "executionInfo": {
     "elapsed": 5,
     "status": "error",
     "timestamp": 1639137440329,
     "user": {
      "displayName": "劉采綺",
      "photoUrl": "https://lh3.googleusercontent.com/a/default-user=s64",
      "userId": "09696115922241243735"
     },
     "user_tz": -480
    },
    "id": "92f0a5c5",
    "outputId": "82f63245-aa2f-4683-8d55-e47cf2f5d03c"
   },
   "outputs": [
    {
     "name": "stdout",
     "output_type": "stream",
     "text": [
      "方法1\n",
      "1\n",
      "3\n",
      "5\n",
      "7\n",
      "9\n",
      "11\n",
      "13\n",
      "15\n",
      "17\n",
      "19\n",
      "21\n",
      "23\n",
      "25\n",
      "27\n",
      "29\n",
      "31\n",
      "33\n",
      "35\n",
      "37\n",
      "39\n",
      "41\n",
      "43\n",
      "45\n",
      "47\n",
      "49\n",
      "51\n",
      "53\n",
      "55\n",
      "57\n",
      "59\n",
      "61\n",
      "63\n",
      "65\n",
      "67\n",
      "69\n",
      "71\n",
      "73\n",
      "75\n",
      "77\n",
      "79\n",
      "81\n",
      "83\n",
      "85\n",
      "87\n",
      "89\n",
      "91\n",
      "93\n",
      "95\n",
      "97\n",
      "99\n",
      "方法2\n",
      "1\n",
      "3\n",
      "5\n",
      "7\n",
      "9\n",
      "11\n",
      "13\n",
      "15\n",
      "17\n",
      "19\n",
      "21\n",
      "23\n",
      "25\n",
      "27\n",
      "29\n",
      "31\n",
      "33\n",
      "35\n",
      "37\n",
      "39\n",
      "41\n",
      "43\n",
      "45\n",
      "47\n",
      "49\n",
      "51\n",
      "53\n",
      "55\n",
      "57\n",
      "59\n",
      "61\n",
      "63\n",
      "65\n",
      "67\n",
      "69\n",
      "71\n",
      "73\n",
      "75\n",
      "77\n",
      "79\n",
      "81\n",
      "83\n",
      "85\n",
      "87\n",
      "89\n",
      "91\n",
      "93\n",
      "95\n",
      "97\n",
      "99\n"
     ]
    }
   ],
   "source": [
    "#########################################\n",
    "#                 Q1                    #\n",
    "#########################################\n",
    "\n",
    "## 1-100的數字中印出所有奇數 (使用 for loop 或 while) ##\n",
    "\n",
    "print(\"方法1:\")\n",
    "for i in range(1, 100, 1):\n",
    "    if (i % 2) != 0:\n",
    "        print(int(i));\n",
    "\n",
    "print(\"方法2:\")\n",
    "i = 0\n",
    "while i < 100:\n",
    "    i += 1\n",
    "    if (i % 2) != 0:\n",
    "        print(int(i));\n",
    "    "
   ]
  },
  {
   "cell_type": "markdown",
   "id": "a_F2wsGwMBoR",
   "metadata": {
    "id": "a_F2wsGwMBoR"
   },
   "source": [
    "# 新增區段"
   ]
  },
  {
   "cell_type": "code",
   "execution_count": 11,
   "id": "85e114ab",
   "metadata": {
    "id": "85e114ab"
   },
   "outputs": [
    {
     "name": "stdout",
     "output_type": "stream",
     "text": [
      "方法1:\n",
      "2550\n",
      "方法2:\n",
      "2550\n"
     ]
    }
   ],
   "source": [
    "#########################################\n",
    "#                 Q2                    #\n",
    "#########################################\n",
    "\n",
    "## 印出1-100 (含100) 的數字中，所有偶數總和 (使用 for loop 或 while) ##\n",
    "\n",
    "print(\"方法1:\")\n",
    "sum = 0\n",
    "for i in range(1, 101, 1):\n",
    "    if  i%2 == 0:\n",
    "        sum = sum + i\n",
    "print(int(sum))\n",
    "\n",
    "print(\"方法2:\")\n",
    "sum = 0\n",
    "i = 0\n",
    "while i <= 100:\n",
    "    if (i % 2) == 0:\n",
    "        sum += i\n",
    "    i += 1\n",
    "print(sum);"
   ]
  },
  {
   "cell_type": "code",
   "execution_count": 20,
   "id": "d228e29a",
   "metadata": {
    "id": "d228e29a"
   },
   "outputs": [
    {
     "ename": "SyntaxError",
     "evalue": "expression cannot contain assignment, perhaps you meant \"==\"? (Temp/ipykernel_21108/717098353.py, line 11)",
     "output_type": "error",
     "traceback": [
      "\u001b[1;36m  File \u001b[1;32m\"C:\\Users\\TIBAME~1\\AppData\\Local\\Temp/ipykernel_21108/717098353.py\"\u001b[1;36m, line \u001b[1;32m11\u001b[0m\n\u001b[1;33m    print(i * j = x)\u001b[0m\n\u001b[1;37m          ^\u001b[0m\n\u001b[1;31mSyntaxError\u001b[0m\u001b[1;31m:\u001b[0m expression cannot contain assignment, perhaps you meant \"==\"?\n"
     ]
    }
   ],
   "source": [
    "#########################################\n",
    "#                 Q3                    #\n",
    "#########################################\n",
    "\n",
    "## 請只印出99乘法表中，奇數乘上偶數的組合，如，1 x 2 = 2, 1 x 4 =4 .... 9 x 6 = 54, 9 x 8 = 72 ##\n",
    "\n",
    "for i in range(1, 10, 2):\n",
    "    for j in range (1, 10):\n",
    "        print(i * j = x)\n",
    "        "
   ]
  },
  {
   "cell_type": "code",
   "execution_count": null,
   "id": "fe5c960d",
   "metadata": {
    "id": "fe5c960d"
   },
   "outputs": [],
   "source": [
    "#########################################\n",
    "#                 Q4                    #\n",
    "#########################################\n",
    "\n",
    "## 請先設定一個字串(s=\"abbaaccdaesa\")，請找出s這個字串中，所有不同的字母，參考答案如下: [a, b, c, d, e, s]。(可不照順序排) ##"
   ]
  },
  {
   "cell_type": "code",
   "execution_count": null,
   "id": "a0ef1999",
   "metadata": {
    "id": "a0ef1999"
   },
   "outputs": [],
   "source": [
    "#########################################\n",
    "#                 Q5                    #\n",
    "#########################################\n",
    "\n",
    "## 請先設定一個字串(s=\"abbaaccdaesa\")，請找出s這個字串中，字母為a的index，參考答案如下: [0,3,4,8,11] ##"
   ]
  },
  {
   "cell_type": "code",
   "execution_count": null,
   "id": "906994a6",
   "metadata": {
    "id": "906994a6"
   },
   "outputs": [],
   "source": [
    "#########################################\n",
    "#                 Q6                    #\n",
    "#########################################\n",
    "\n",
    "## 請寫一個\"遞迴\"函式fun(n)，來產生費式數列(0、1、1、2、3、5、8、13、21、34、55、89......)， ##\n",
    "## 如: fun(n=0) 回傳 0， fun(n=6) 回傳 8，fun(n=9) 回傳 34，以此類推。 ##"
   ]
  }
 ],
 "metadata": {
  "colab": {
   "collapsed_sections": [],
   "name": "HW1.ipynb",
   "provenance": [],
   "toc_visible": true
  },
  "kernelspec": {
   "display_name": "Python 3 (ipykernel)",
   "language": "python",
   "name": "python3"
  },
  "language_info": {
   "codemirror_mode": {
    "name": "ipython",
    "version": 3
   },
   "file_extension": ".py",
   "mimetype": "text/x-python",
   "name": "python",
   "nbconvert_exporter": "python",
   "pygments_lexer": "ipython3",
   "version": "3.8.12"
  }
 },
 "nbformat": 4,
 "nbformat_minor": 5
}
